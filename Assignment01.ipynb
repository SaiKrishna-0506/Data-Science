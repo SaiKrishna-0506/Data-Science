{
  "nbformat": 4,
  "nbformat_minor": 0,
  "metadata": {
    "colab": {
      "provenance": [],
      "authorship_tag": "ABX9TyOhAxh696F7HZ/gAI2HjuUs",
      "include_colab_link": true
    },
    "kernelspec": {
      "name": "python3",
      "display_name": "Python 3"
    },
    "language_info": {
      "name": "python"
    }
  },
  "cells": [
    {
      "cell_type": "markdown",
      "metadata": {
        "id": "view-in-github",
        "colab_type": "text"
      },
      "source": [
        "<a href=\"https://colab.research.google.com/github/SaiKrishna-0506/Data-Science/blob/main/Untitled0.ipynb\" target=\"_parent\"><img src=\"https://colab.research.google.com/assets/colab-badge.svg\" alt=\"Open In Colab\"/></a>"
      ]
    },
    {
      "cell_type": "code",
      "source": [
        "##exmp-1:simple if\n",
        "x=10\n",
        "if x>5:\n",
        "  print(\"x is greater then 5\")"
      ],
      "metadata": {
        "id": "xsdyH4GFwLh5",
        "colab": {
          "base_uri": "https://localhost:8080/"
        },
        "outputId": "6c8c895c-4dd3-4b26-9b3a-b57bbca925ca"
      },
      "execution_count": 1,
      "outputs": [
        {
          "output_type": "stream",
          "name": "stdout",
          "text": [
            "x is greater then 5\n"
          ]
        }
      ]
    },
    {
      "cell_type": "code",
      "source": [
        "##exmp-2:if-else\n",
        "x=10\n",
        "if x>5:\n",
        "  print(\"x is greater then 5\")\n",
        "else:\n",
        "  print(\"x is less then 5\")"
      ],
      "metadata": {
        "id": "HbppLbCGx9wY",
        "colab": {
          "base_uri": "https://localhost:8080/"
        },
        "outputId": "da30f4e8-09ea-47ca-fe81-7c8cfbb5f481"
      },
      "execution_count": 2,
      "outputs": [
        {
          "output_type": "stream",
          "name": "stdout",
          "text": [
            "x is greater then 5\n"
          ]
        }
      ]
    },
    {
      "cell_type": "code",
      "source": [
        "##exmp-3:if-elif-else\n",
        "score = 85\n",
        "if score>90:\n",
        "  print(\"A\")\n",
        "elif score>80:\n",
        "  print(\"B\")\n",
        "elif score>70:\n",
        "  print(\"C\")\n",
        "else:\n",
        "  print(\"D\")"
      ],
      "metadata": {
        "colab": {
          "base_uri": "https://localhost:8080/"
        },
        "id": "ddOd_F0lbwmS",
        "outputId": "3328aa2a-e747-41d6-8e89-6f92e35279c8"
      },
      "execution_count": 3,
      "outputs": [
        {
          "output_type": "stream",
          "name": "stdout",
          "text": [
            "B\n"
          ]
        }
      ]
    },
    {
      "cell_type": "code",
      "source": [
        "##exmp-4:\n",
        "name= \"Alice\"\n",
        "if name==\"Alice\":\n",
        "  print(\"Hello Alice\")"
      ],
      "metadata": {
        "colab": {
          "base_uri": "https://localhost:8080/"
        },
        "id": "YwRtrj7Nbwiu",
        "outputId": "58aa8ed3-a4e7-443e-c114-c8899fd91907"
      },
      "execution_count": 4,
      "outputs": [
        {
          "output_type": "stream",
          "name": "stdout",
          "text": [
            "Hello Alice\n"
          ]
        }
      ]
    },
    {
      "cell_type": "code",
      "source": [
        "##exmp-5:\n",
        "age = 20\n",
        "if age>=18:\n",
        "  print(\"You are eligible to vote\")\n",
        "else:\n",
        "  print(\"You are not eligible to vote\")\n"
      ],
      "metadata": {
        "colab": {
          "base_uri": "https://localhost:8080/"
        },
        "id": "8Ar-5PMobwgW",
        "outputId": "65128d82-e86c-415d-891e-d6b38a5b06a8"
      },
      "execution_count": 5,
      "outputs": [
        {
          "output_type": "stream",
          "name": "stdout",
          "text": [
            "You are eligible to vote\n"
          ]
        }
      ]
    },
    {
      "cell_type": "code",
      "source": [
        "##exmp-6:\n",
        "num=0\n",
        "if num==0:\n",
        "  print(\"the number is zero\")\n",
        "else:\n",
        "    print(\"the number is not zero\")"
      ],
      "metadata": {
        "colab": {
          "base_uri": "https://localhost:8080/"
        },
        "id": "0DDWSYbJbwdj",
        "outputId": "69bca650-4399-49e9-b887-92e84959786f"
      },
      "execution_count": 7,
      "outputs": [
        {
          "output_type": "stream",
          "name": "stdout",
          "text": [
            "the number is zero\n"
          ]
        }
      ]
    },
    {
      "cell_type": "code",
      "source": [
        "##exmp-7:\n",
        "n=-5\n",
        "if n<0:\n",
        "  print(\"Negative\")\n",
        "elif n==0:\n",
        "    print(\"Zero\")\n",
        "else:\n",
        "      print(\"Positive\")\n"
      ],
      "metadata": {
        "colab": {
          "base_uri": "https://localhost:8080/"
        },
        "id": "bXpjUs5hbwbJ",
        "outputId": "c275abda-a11d-4f99-8e56-4b4cdec3dec6"
      },
      "execution_count": 8,
      "outputs": [
        {
          "output_type": "stream",
          "name": "stdout",
          "text": [
            "Negative\n"
          ]
        }
      ]
    },
    {
      "cell_type": "code",
      "source": [
        "##exmp-8:\n",
        "temp=30\n",
        "if temp>25:\n",
        "  print(\"It's a hot day\")\n",
        "else:\n",
        "  print(\"It's a cold day\")"
      ],
      "metadata": {
        "colab": {
          "base_uri": "https://localhost:8080/"
        },
        "id": "uWzLCrtQbwY0",
        "outputId": "4baf178f-d522-4e4d-b07a-6c25cda8d41f"
      },
      "execution_count": 9,
      "outputs": [
        {
          "output_type": "stream",
          "name": "stdout",
          "text": [
            "It's a hot day\n"
          ]
        }
      ]
    },
    {
      "cell_type": "code",
      "source": [
        "##exmp-9:\n",
        "language=\"Python\"\n",
        "if language==\"Python\":\n",
        "  print(\"Language matched\")"
      ],
      "metadata": {
        "colab": {
          "base_uri": "https://localhost:8080/"
        },
        "id": "pfoNe2NSbwWK",
        "outputId": "3f02245e-63b2-48eb-abfe-d08c9e69dffc"
      },
      "execution_count": 10,
      "outputs": [
        {
          "output_type": "stream",
          "name": "stdout",
          "text": [
            "Language matched\n"
          ]
        }
      ]
    },
    {
      "cell_type": "code",
      "source": [
        "##exmp-10:\n",
        "marks=65\n",
        "if marks>=90:\n",
        "  print(\"excellent\")\n",
        "elif marks>=75:\n",
        "    print(\"very good\")\n",
        "elif marks>=60:\n",
        "  print(\"good\")\n",
        "else:\n",
        "  print(\"average\")\n"
      ],
      "metadata": {
        "id": "6EXSkHa7xhM1",
        "colab": {
          "base_uri": "https://localhost:8080/"
        },
        "outputId": "4c665fd6-42f7-4531-f687-a46fa3cb546d"
      },
      "execution_count": 11,
      "outputs": [
        {
          "output_type": "stream",
          "name": "stdout",
          "text": [
            "good\n"
          ]
        }
      ]
    },
    {
      "cell_type": "code",
      "source": [
        "##exmp-11:\n",
        "flag=True\n",
        "if flag:\n",
        "  print(\"Flag is True\")"
      ],
      "metadata": {
        "id": "-1SZ7Iw9nBh2",
        "colab": {
          "base_uri": "https://localhost:8080/"
        },
        "outputId": "d1723639-c35b-4ba0-95d9-8872c30179c8"
      },
      "execution_count": 12,
      "outputs": [
        {
          "output_type": "stream",
          "name": "stdout",
          "text": [
            "Flag is True\n"
          ]
        }
      ]
    },
    {
      "cell_type": "code",
      "source": [
        "##exmp-12:\n",
        "a,b=10,20\n",
        "if a<b:\n",
        "  print(\"a is less than b\")"
      ],
      "metadata": {
        "id": "vGPkirTdnBka",
        "colab": {
          "base_uri": "https://localhost:8080/"
        },
        "outputId": "43a830e9-fba2-4f3a-ca71-874649beba70"
      },
      "execution_count": 13,
      "outputs": [
        {
          "output_type": "stream",
          "name": "stdout",
          "text": [
            "a is less than b\n"
          ]
        }
      ]
    },
    {
      "cell_type": "code",
      "source": [
        "##exmp-13:\n",
        "x=100\n",
        "if x%2==0:\n",
        "  print(\"x is even\")\n",
        "else:\n",
        "  print(\"x is odd\")"
      ],
      "metadata": {
        "id": "xIYtS_qNnBni",
        "colab": {
          "base_uri": "https://localhost:8080/"
        },
        "outputId": "bb736670-7bfe-49e3-8280-56a71149de20"
      },
      "execution_count": 14,
      "outputs": [
        {
          "output_type": "stream",
          "name": "stdout",
          "text": [
            "x is even\n"
          ]
        }
      ]
    },
    {
      "cell_type": "code",
      "source": [
        "##exmp-14:\n",
        "grade=\"A\"\n",
        "if grade==\"A\":\n",
        "  print(\"Excellent\")\n",
        "elif grade==\"B\":\n",
        "  print(\"Good\")\n",
        "elif grade==\"C\":\n",
        "  print(\"Average\")\n",
        "else:\n",
        "  print(\"Below Average\")"
      ],
      "metadata": {
        "id": "j1JPlx7pnBsG",
        "colab": {
          "base_uri": "https://localhost:8080/"
        },
        "outputId": "385be800-ba06-49b5-9247-9b6241f5b8f5"
      },
      "execution_count": 15,
      "outputs": [
        {
          "output_type": "stream",
          "name": "stdout",
          "text": [
            "Excellent\n"
          ]
        }
      ]
    },
    {
      "cell_type": "code",
      "source": [
        "##exmp-15:\n",
        "price = 125\n",
        "if price>100:\n",
        "  print(\"It's too expensive\")"
      ],
      "metadata": {
        "colab": {
          "base_uri": "https://localhost:8080/"
        },
        "id": "9QK5pDHTir1N",
        "outputId": "c475af42-4c1d-479a-bf8a-9db85eafbad7"
      },
      "execution_count": 16,
      "outputs": [
        {
          "output_type": "stream",
          "name": "stdout",
          "text": [
            "It's too expensive\n"
          ]
        }
      ]
    },
    {
      "cell_type": "code",
      "source": [
        "##exmp-16:\n",
        "rain=False\n",
        "if rain:\n",
        "  print(\"Bring an umbrella\")\n",
        "else:\n",
        "  print(\"No need for an umbrella\")"
      ],
      "metadata": {
        "colab": {
          "base_uri": "https://localhost:8080/"
        },
        "id": "e7hISK3airx4",
        "outputId": "35887ccc-5523-41e1-c4c9-5ff43e071c33"
      },
      "execution_count": 17,
      "outputs": [
        {
          "output_type": "stream",
          "name": "stdout",
          "text": [
            "No need for an umbrella\n"
          ]
        }
      ]
    },
    {
      "cell_type": "code",
      "source": [
        "##exmp-17:\n",
        "fruit = \"apple\"\n",
        "if fruit in [\"apple\",\"banana\",\"mango\"]:\n",
        "  print(\"Available\")"
      ],
      "metadata": {
        "colab": {
          "base_uri": "https://localhost:8080/"
        },
        "id": "HJxBoxzMirvR",
        "outputId": "3265f08e-88d5-4515-a7fd-34937b2c190e"
      },
      "execution_count": 20,
      "outputs": [
        {
          "output_type": "stream",
          "name": "stdout",
          "text": [
            "Available\n"
          ]
        }
      ]
    },
    {
      "cell_type": "code",
      "source": [],
      "metadata": {
        "id": "naSQTyCsirsa"
      },
      "execution_count": null,
      "outputs": []
    },
    {
      "cell_type": "code",
      "source": [],
      "metadata": {
        "id": "prNhunZhirp0"
      },
      "execution_count": null,
      "outputs": []
    },
    {
      "cell_type": "code",
      "source": [],
      "metadata": {
        "id": "j3bq6tK8irbJ"
      },
      "execution_count": null,
      "outputs": []
    },
    {
      "cell_type": "code",
      "source": [],
      "metadata": {
        "id": "DQv2VFACirXl"
      },
      "execution_count": null,
      "outputs": []
    },
    {
      "cell_type": "code",
      "source": [],
      "metadata": {
        "id": "wq0naZnHirVq"
      },
      "execution_count": null,
      "outputs": []
    },
    {
      "cell_type": "code",
      "source": [],
      "metadata": {
        "id": "yQB9sN4TirTE"
      },
      "execution_count": null,
      "outputs": []
    },
    {
      "cell_type": "code",
      "source": [],
      "metadata": {
        "id": "J5hkxuO8irQc"
      },
      "execution_count": null,
      "outputs": []
    }
  ]
}
